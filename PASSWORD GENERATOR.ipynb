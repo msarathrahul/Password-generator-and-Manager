{
 "cells": [
  {
   "cell_type": "code",
   "execution_count": 64,
   "id": "a341c544",
   "metadata": {},
   "outputs": [],
   "source": [
    "def password_generator():\n",
    "    characters = '@!#*._qwertyuiopasdfghjklzxcvbnmQWERTYUIOPASDFGHJKLZXCVBNM1234567890'\n",
    "    password = []\n",
    "    import random\n",
    "    name = input('Enter the account name for which you want to generate the password:\\n')\n",
    "    keys = accounts.keys()\n",
    "    #accounts = {}\n",
    "    if name in keys:\n",
    "        print('Account already exists')\n",
    "        print(\"Password: {}\".format(accounts[name]))\n",
    "    else:\n",
    "        n = int(input('Enter the number of characters in the preferred password\\n'))\n",
    "        a = 1\n",
    "        while a<=n:\n",
    "            b = random.choice(characters)\n",
    "            password.append(b)\n",
    "            a = a+1\n",
    "        \"\"\"\n",
    "        password = random.sample(characters,n)\n",
    "        \"\"\"\n",
    "        accounts[name.capitalize()] = \"\".join(password)\n",
    "        print(\"\".join(password))"
   ]
  },
  {
   "cell_type": "code",
   "execution_count": 65,
   "id": "7d386616",
   "metadata": {},
   "outputs": [
    {
     "name": "stdout",
     "output_type": "stream",
     "text": [
      "Enter the account name for which you want to generate the password:\n",
      "Twitter\n",
      "Enter the number of characters in the preferred password\n",
      "12\n",
      "vJxEax24aSvV\n"
     ]
    }
   ],
   "source": [
    "password_generator()"
   ]
  },
  {
   "cell_type": "code",
   "execution_count": 67,
   "id": "82b16099",
   "metadata": {},
   "outputs": [
    {
     "data": {
      "text/plain": [
       "{'Instagram': '764YbE8GKzjR', 'Twitter': 'vJxEax24aSvV'}"
      ]
     },
     "execution_count": 67,
     "metadata": {},
     "output_type": "execute_result"
    }
   ],
   "source": [
    "accounts"
   ]
  }
 ],
 "metadata": {
  "kernelspec": {
   "display_name": "Python 3 (ipykernel)",
   "language": "python",
   "name": "python3"
  },
  "language_info": {
   "codemirror_mode": {
    "name": "ipython",
    "version": 3
   },
   "file_extension": ".py",
   "mimetype": "text/x-python",
   "name": "python",
   "nbconvert_exporter": "python",
   "pygments_lexer": "ipython3",
   "version": "3.9.7"
  }
 },
 "nbformat": 4,
 "nbformat_minor": 5
}
